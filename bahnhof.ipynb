{
 "cells": [
  {
   "cell_type": "code",
   "execution_count": 48,
   "metadata": {},
   "outputs": [],
   "source": [
    "import pandas as pd\n",
    "import json"
   ]
  },
  {
   "cell_type": "code",
   "execution_count": 49,
   "metadata": {},
   "outputs": [
    {
     "data": {
      "text/html": [
       "<div>\n",
       "<style scoped>\n",
       "    .dataframe tbody tr th:only-of-type {\n",
       "        vertical-align: middle;\n",
       "    }\n",
       "\n",
       "    .dataframe tbody tr th {\n",
       "        vertical-align: top;\n",
       "    }\n",
       "\n",
       "    .dataframe thead th {\n",
       "        text-align: right;\n",
       "    }\n",
       "</style>\n",
       "<table border=\"1\" class=\"dataframe\">\n",
       "  <thead>\n",
       "    <tr style=\"text-align: right;\">\n",
       "      <th></th>\n",
       "      <th>EVA_NR</th>\n",
       "      <th>DS100</th>\n",
       "      <th>IFOPT</th>\n",
       "      <th>NAME</th>\n",
       "      <th>Verkehr</th>\n",
       "      <th>Laenge</th>\n",
       "      <th>Breite</th>\n",
       "      <th>Betreiber_Name</th>\n",
       "      <th>Betreiber_Nr</th>\n",
       "      <th>Status</th>\n",
       "    </tr>\n",
       "  </thead>\n",
       "  <tbody>\n",
       "    <tr>\n",
       "      <th>0</th>\n",
       "      <td>8002551</td>\n",
       "      <td>AELB</td>\n",
       "      <td>de:02000:11943</td>\n",
       "      <td>Hamburg Elbbrücken</td>\n",
       "      <td>RV</td>\n",
       "      <td>10,0245</td>\n",
       "      <td>53,5345</td>\n",
       "      <td>DB Station und Service AG</td>\n",
       "      <td>NaN</td>\n",
       "      <td>neu</td>\n",
       "    </tr>\n",
       "    <tr>\n",
       "      <th>1</th>\n",
       "      <td>8001944</td>\n",
       "      <td>TETN</td>\n",
       "      <td>NaN</td>\n",
       "      <td>Eutingen Nord</td>\n",
       "      <td>RV</td>\n",
       "      <td>8,7531</td>\n",
       "      <td>48,4847</td>\n",
       "      <td>DB Station und Service AG</td>\n",
       "      <td>NaN</td>\n",
       "      <td>neu</td>\n",
       "    </tr>\n",
       "    <tr>\n",
       "      <th>2</th>\n",
       "      <td>8003074</td>\n",
       "      <td>MIA</td>\n",
       "      <td>NaN</td>\n",
       "      <td>Ingolstadt Audi</td>\n",
       "      <td>RV</td>\n",
       "      <td>11,4074564</td>\n",
       "      <td>48,7904959</td>\n",
       "      <td>DB Station und Service AG</td>\n",
       "      <td>NaN</td>\n",
       "      <td>neu</td>\n",
       "    </tr>\n",
       "    <tr>\n",
       "      <th>3</th>\n",
       "      <td>8001723</td>\n",
       "      <td>HEBA</td>\n",
       "      <td>NaN</td>\n",
       "      <td>Einbeck Otto-Hahn-Straße</td>\n",
       "      <td>RV</td>\n",
       "      <td>9,89290953</td>\n",
       "      <td>51,8144784</td>\n",
       "      <td>Ilmebahn GmbH</td>\n",
       "      <td>NaN</td>\n",
       "      <td>neu</td>\n",
       "    </tr>\n",
       "    <tr>\n",
       "      <th>4</th>\n",
       "      <td>8004371</td>\n",
       "      <td>KRO</td>\n",
       "      <td>NaN</td>\n",
       "      <td>Nörvenich-Rommelsheim</td>\n",
       "      <td>nur DPN</td>\n",
       "      <td>6,547586</td>\n",
       "      <td>50,782539</td>\n",
       "      <td>Rurtalbahn GmbH</td>\n",
       "      <td>NaN</td>\n",
       "      <td>neu</td>\n",
       "    </tr>\n",
       "  </tbody>\n",
       "</table>\n",
       "</div>"
      ],
      "text/plain": [
       "    EVA_NR DS100           IFOPT                      NAME  Verkehr  \\\n",
       "0  8002551  AELB  de:02000:11943        Hamburg Elbbrücken       RV   \n",
       "1  8001944  TETN             NaN             Eutingen Nord       RV   \n",
       "2  8003074   MIA             NaN           Ingolstadt Audi       RV   \n",
       "3  8001723  HEBA             NaN  Einbeck Otto-Hahn-Straße       RV   \n",
       "4  8004371   KRO             NaN     Nörvenich-Rommelsheim  nur DPN   \n",
       "\n",
       "       Laenge      Breite             Betreiber_Name  Betreiber_Nr Status  \n",
       "0     10,0245     53,5345  DB Station und Service AG           NaN    neu  \n",
       "1      8,7531     48,4847  DB Station und Service AG           NaN    neu  \n",
       "2  11,4074564  48,7904959  DB Station und Service AG           NaN    neu  \n",
       "3  9,89290953  51,8144784              Ilmebahn GmbH           NaN    neu  \n",
       "4    6,547586   50,782539            Rurtalbahn GmbH           NaN    neu  "
      ]
     },
     "execution_count": 49,
     "metadata": {},
     "output_type": "execute_result"
    }
   ],
   "source": [
    "bahnhof = pd.read_csv('data/D_Bahnhof_2020_alle.CSV', sep=';')\n",
    "bahnhof.head()"
   ]
  },
  {
   "cell_type": "code",
   "execution_count": 50,
   "metadata": {},
   "outputs": [],
   "source": [
    "bahnhof[\"Laenge\"] = bahnhof[\"Laenge\"].str.replace(\",\", \".\").astype(float)\n",
    "bahnhof[\"Breite\"] = bahnhof[\"Breite\"].str.replace(\",\", \".\").astype(float)"
   ]
  },
  {
   "cell_type": "code",
   "execution_count": 51,
   "metadata": {},
   "outputs": [],
   "source": [
    "with open('data/bahnhof_geo.json', encoding='utf-8') as f:\n",
    "    coord = json.load(f)"
   ]
  },
  {
   "cell_type": "code",
   "execution_count": 52,
   "metadata": {},
   "outputs": [
    {
     "data": {
      "text/html": [
       "<div>\n",
       "<style scoped>\n",
       "    .dataframe tbody tr th:only-of-type {\n",
       "        vertical-align: middle;\n",
       "    }\n",
       "\n",
       "    .dataframe tbody tr th {\n",
       "        vertical-align: top;\n",
       "    }\n",
       "\n",
       "    .dataframe thead th {\n",
       "        text-align: right;\n",
       "    }\n",
       "</style>\n",
       "<table border=\"1\" class=\"dataframe\">\n",
       "  <thead>\n",
       "    <tr style=\"text-align: right;\">\n",
       "      <th></th>\n",
       "      <th>NAME</th>\n",
       "      <th>state</th>\n",
       "    </tr>\n",
       "  </thead>\n",
       "  <tbody>\n",
       "    <tr>\n",
       "      <th>0</th>\n",
       "      <td>Aachen Hbf</td>\n",
       "      <td>Nordrhein-Westfalen</td>\n",
       "    </tr>\n",
       "    <tr>\n",
       "      <th>1</th>\n",
       "      <td>Burkhardswalde-Maxen</td>\n",
       "      <td>Sachsen</td>\n",
       "    </tr>\n",
       "    <tr>\n",
       "      <th>2</th>\n",
       "      <td>Burkhardtsdorf</td>\n",
       "      <td>Sachsen</td>\n",
       "    </tr>\n",
       "    <tr>\n",
       "      <th>3</th>\n",
       "      <td>Bürstadt</td>\n",
       "      <td>Hessen</td>\n",
       "    </tr>\n",
       "    <tr>\n",
       "      <th>4</th>\n",
       "      <td>Buschow</td>\n",
       "      <td>Brandenburg</td>\n",
       "    </tr>\n",
       "  </tbody>\n",
       "</table>\n",
       "</div>"
      ],
      "text/plain": [
       "                   NAME                state\n",
       "0            Aachen Hbf  Nordrhein-Westfalen\n",
       "1  Burkhardswalde-Maxen              Sachsen\n",
       "2        Burkhardtsdorf              Sachsen\n",
       "3              Bürstadt               Hessen\n",
       "4               Buschow          Brandenburg"
      ]
     },
     "execution_count": 52,
     "metadata": {},
     "output_type": "execute_result"
    }
   ],
   "source": [
    "temp = {\"NAME\": [], \"state\": []}\n",
    "\n",
    "for s in coord[\"stations\"]:\n",
    "    #print (s)\n",
    "    \n",
    "    #break\n",
    "\n",
    "    if \"address\" in s:\n",
    "        name = s[\"names\"][\"DE\"][\"name\"]\n",
    "        #city = s[\"address\"][\"city\"]\n",
    "        state = s[\"address\"][\"state\"]\n",
    "\n",
    "        temp[\"NAME\"].append(name)\n",
    "        temp[\"state\"].append(state)\n",
    "\n",
    "\n",
    "df = pd.DataFrame.from_dict(temp)\n",
    "df.head()"
   ]
  },
  {
   "cell_type": "code",
   "execution_count": 53,
   "metadata": {},
   "outputs": [],
   "source": [
    "bahnhof.drop([\"IFOPT\", \"Betreiber_Name\", \"Betreiber_Nr\", \"Status\"], axis=1).rename(columns={'Breite': 'latitude', 'Laenge': 'longitude'}).merge(df, on='NAME', how='inner').to_csv('data/bahnhof.csv', index=False)"
   ]
  },
  {
   "cell_type": "code",
   "execution_count": null,
   "metadata": {},
   "outputs": [],
   "source": []
  }
 ],
 "metadata": {
  "kernelspec": {
   "display_name": "Python 3.9.7 ('base')",
   "language": "python",
   "name": "python3"
  },
  "language_info": {
   "codemirror_mode": {
    "name": "ipython",
    "version": 3
   },
   "file_extension": ".py",
   "mimetype": "text/x-python",
   "name": "python",
   "nbconvert_exporter": "python",
   "pygments_lexer": "ipython3",
   "version": "3.9.7"
  },
  "orig_nbformat": 4,
  "vscode": {
   "interpreter": {
    "hash": "ad2bdc8ecc057115af97d19610ffacc2b4e99fae6737bb82f5d7fb13d2f2c186"
   }
  }
 },
 "nbformat": 4,
 "nbformat_minor": 2
}
