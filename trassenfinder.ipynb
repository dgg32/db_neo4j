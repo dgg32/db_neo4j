{
 "cells": [
  {
   "cell_type": "code",
   "execution_count": 3,
   "metadata": {},
   "outputs": [],
   "source": [
    "\n",
    "import time\n",
    "import openapi_client\n",
    "from openapi_client.rest import ApiException\n",
    "from pprint import pprint\n",
    "\n",
    "\n",
    "\n"
   ]
  },
  {
   "cell_type": "code",
   "execution_count": 4,
   "metadata": {},
   "outputs": [
    {
     "ename": "AttributeError",
     "evalue": "module 'openapi_client' has no attribute 'DefaultApi'",
     "output_type": "error",
     "traceback": [
      "\u001b[0;31m---------------------------------------------------------------------------\u001b[0m",
      "\u001b[0;31mAttributeError\u001b[0m                            Traceback (most recent call last)",
      "\u001b[1;32m/home/huangsixing/Documents/db_neo4j/trassenfinder.ipynb Cell 2\u001b[0m in \u001b[0;36m<cell line: 1>\u001b[0;34m()\u001b[0m\n\u001b[0;32m----> <a href='vscode-notebook-cell:/home/huangsixing/Documents/db_neo4j/trassenfinder.ipynb#W1sZmlsZQ%3D%3D?line=0'>1</a>\u001b[0m api_instance \u001b[39m=\u001b[39m openapi_client\u001b[39m.\u001b[39;49mDefaultApi()\n\u001b[1;32m      <a href='vscode-notebook-cell:/home/huangsixing/Documents/db_neo4j/trassenfinder.ipynb#W1sZmlsZQ%3D%3D?line=1'>2</a>\u001b[0m routensucheRequestV5 \u001b[39m=\u001b[39m  {}\u001b[39m# RoutensucheRequestV5 \u001b[39;00m\n\u001b[1;32m      <a href='vscode-notebook-cell:/home/huangsixing/Documents/db_neo4j/trassenfinder.ipynb#W1sZmlsZQ%3D%3D?line=3'>4</a>\u001b[0m \u001b[39mtry\u001b[39;00m:\n\u001b[1;32m      <a href='vscode-notebook-cell:/home/huangsixing/Documents/db_neo4j/trassenfinder.ipynb#W1sZmlsZQ%3D%3D?line=4'>5</a>\u001b[0m     \u001b[39m# Durchführung einer Routensuche\u001b[39;00m\n",
      "\u001b[0;31mAttributeError\u001b[0m: module 'openapi_client' has no attribute 'DefaultApi'"
     ]
    }
   ],
   "source": [
    "api_instance = openapi_client.DefaultApi()\n",
    "routensucheRequestV5 =  {}# RoutensucheRequestV5 \n",
    "\n",
    "try:\n",
    "    # Durchführung einer Routensuche\n",
    "    api_response = api_instance.suche(routensucheRequestV5)\n",
    "    pprint(api_response)\n",
    "except ApiException as e:\n",
    "    print(\"Exception when calling DefaultApi->suche: %s\\n\" % e)"
   ]
  },
  {
   "cell_type": "code",
   "execution_count": null,
   "metadata": {},
   "outputs": [],
   "source": []
  }
 ],
 "metadata": {
  "kernelspec": {
   "display_name": "Python 3.9.12 ('base')",
   "language": "python",
   "name": "python3"
  },
  "language_info": {
   "codemirror_mode": {
    "name": "ipython",
    "version": 3
   },
   "file_extension": ".py",
   "mimetype": "text/x-python",
   "name": "python",
   "nbconvert_exporter": "python",
   "pygments_lexer": "ipython3",
   "version": "3.9.12"
  },
  "orig_nbformat": 4,
  "vscode": {
   "interpreter": {
    "hash": "2906174ea623f98bf0228f3e6b5461e1880ae5fa222a8c61228ae0439f209a69"
   }
  }
 },
 "nbformat": 4,
 "nbformat_minor": 2
}
